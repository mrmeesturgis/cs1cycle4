{
 "cells": [
  {
   "cell_type": "markdown",
   "id": "d8bba665",
   "metadata": {},
   "source": [
    "<img src=\"https://www.sturgischarterschool.com/wp-content/uploads/2019/06/sturgisheader_logo.png\" alt=\"sturgis\" width=\"250\" align=\"right\"/>\n",
    "\n",
    "## Computer Science 'Garden Path' notebook 4\n",
    "### Sturgis Charter Public School \n",
    "\n"
   ]
  },
  {
   "cell_type": "markdown",
   "id": "681696fb",
   "metadata": {},
   "source": [
    "Student: [your name here]\n",
    "\n",
    "Collaborators: [N/A]\n",
    "\n",
    "Notes to the teacher: [N/A]"
   ]
  },
  {
   "cell_type": "markdown",
   "id": "16bf0839",
   "metadata": {},
   "source": [
    "### Learning Objectives for notebook \n",
    "* The last two fundamental data types\n",
    "* Sets\n",
    "* Dictionaries\n",
    "* Typecasting"
   ]
  },
  {
   "cell_type": "markdown",
   "id": "22705baf",
   "metadata": {},
   "source": [
    "### Narrative\n",
    "\n",
    "There are only two things to learn for this notebook, and they are the last two fundamental data types: sets and dictionaries. They actually look fairly similar in implementation. Both are noted with the curly brackets `{}`. However don't be fooled: they are not the same. They do, however, share some similar properties. This might be most easily explained with a table. \n",
    "\n",
    "|Element| Dictionary | Set |\n",
    "| :- | :- | :- |\n",
    "|type()|dict|set|\n",
    "|Denotation| {} | {} |\n",
    "|Keys|Yes|No|\n",
    "|Ordered|Yes|No|\n",
    "|Unique|Keys:yes, values:no|Each element must be unique|\n",
    "|Example|edict = {'key':'value, 'key2':'value2'}|eset = {1,2,3} or eset = set()|\n",
    "\n",
    "Now let's think about how these might be useful. A set might be useful when we only want unique elements out of a list. But be careful, the order will be lost. You also cannot take slices from an unordered set. In fact, just like everything else, there are specific [methods for sets](https://www.w3schools.com/python/python_ref_set.asp). Personally I find it annoying that I can't append to a set, but rather I have to add to a set. \n",
    "\n",
    "On the other hand, knowing for certain that all elements of my **set** are unique is kind of awesome, especially since I can always cast it back into a list. This means with just a few keystrokes I can make a list entirely unique. Also consider the fun implications for the .intersection() method. Note the syntax there is a little tricky, because of course you're interacting with two sets, not just one. **Main takeaway:** sets are unordered lists, where every element is unique. \n",
    "\n",
    "**Dictionaries** are awesome. They hold an immense amount of search power, because as long as you know the key you can instantaneously access the data associated with the key. This is very powerful. We'll look at implementatoin in just a minute, but remember that every key must be unique, and that key is the identifier we use to access the data (i.e. the value). These key value pairs make up the whole of the dictionary, and can be assigned and reassigned in whatever way is convenient. Finally note that the value doesn't have to be an intiger or a string, your value could be a list...or even another dictionary. Do note, however, that you cannot take a slice of a dictionary, but you can use [dictionary methods](https://www.w3schools.com/python/python_ref_dictionary.asp) to access the list of keys, values, or both. **Main takeaway:** dictionaries are pairs of keys (which help us find our data), and values(the data itself).\n",
    "\n",
    "**Typecasting** One thing that you're going to want to do in order to easily do some of the questions is called typecasting. Let's imagine we have a list `alist = [1,2,3,3]` we can cast that into a set simply by doing this `aset = set(alist)`. This will make `aset` look like `aset = {1,2,3}`. We could then if we want do the following: `alist = list(aset)`, which would then yield a list that looks like the following `alist = [1,2,3]`. Note that the second three is gone, because by going through the set type all non-unique elements are discarded...again, this is kind of awesome!\n"
   ]
  },
  {
   "cell_type": "markdown",
   "id": "93106881",
   "metadata": {},
   "source": [
    "### Your turn\n",
    "\n",
    "Alright, now that we've talked about them, it's time for you to practice these. Please answer the following questions to the best of your ability. Remember to start early so you can ask questions. Also remember that if you're working for more than an hour without making any progress, then it's time to stop and ask for help, either from myself or from a peer. Happy coding!\n",
    "\n",
    "#### Question 1\n",
    "\n",
    "Cast a list that has duplicates in it (e.g. `[2,2,2]`) into a set, then return it to a list, such that the new list would obviously have no duplicates (e.g. `[2]` ).\n",
    "\n",
    "Please sort the list before you attempt the assert checks. Remember, if you didn't, the order of the list would be different. "
   ]
  },
  {
   "cell_type": "code",
   "execution_count": null,
   "id": "f54b875e",
   "metadata": {},
   "outputs": [],
   "source": [
    "#This is importing the data from the csv file.\n",
    "import csv\n",
    "with open('MOCK_DATA_4.csv', newline='', encoding = 'utf8') as csvfile:\n",
    "    download = csv.reader(csvfile, delimiter=',')\n",
    "    data = []\n",
    "    for row in download:\n",
    "        data.append(row)"
   ]
  },
  {
   "cell_type": "code",
   "execution_count": null,
   "id": "43e744cd",
   "metadata": {},
   "outputs": [],
   "source": [
    "#let's just take a look at the first 10 (of 500)\n",
    "for line in data[:10]:\n",
    "    print(line)"
   ]
  },
  {
   "cell_type": "code",
   "execution_count": null,
   "id": "64a53092",
   "metadata": {},
   "outputs": [],
   "source": [
    "#Your code here. Beware! that first line isn't really part of the data is it, make sure to get rid of it.\n",
    "raise NotImplementedError(\"Be sure to delete this line as you construct your answer\")"
   ]
  },
  {
   "cell_type": "code",
   "execution_count": null,
   "id": "3bc78057",
   "metadata": {},
   "outputs": [],
   "source": [
    "#Now let's check if you have lists of each of the three elements: currency, name & city, and each list has only unique elements in it.\n",
    "assert type(currlist) == list\n",
    "assert type(currlist[0]) == str\n",
    "assert len(currlist) == 77\n",
    "\n",
    "assert type(namelist) == list\n",
    "assert type(namelist[0]) == str\n",
    "assert len(namelist) == 484\n",
    "\n",
    "assert type(citylist) == list\n",
    "assert type(citylist[0]) == str\n",
    "assert len(citylist) == 494"
   ]
  },
  {
   "cell_type": "markdown",
   "id": "4854e9c6",
   "metadata": {},
   "source": [
    "#### Question 2\n",
    "\n",
    "Now let's build a dictionary. Let's build a dictionary that indicates for each person (name) what city that person lives and what currency they use. Now let's ignore the fact that Reg uses USD in Alhambra, the logic doesn't matter for the exercise. What we want to end up with is something that looks like this: `currdict = {'Reg':'USD'}` AND a second dictionary that looks like this: `citydict = {'Reg':'Alhambra'}.` Note that each dictionary is distinct. `'Reg'` is a unique key in each dictionary. \n",
    "\n",
    "Now we have one problem that's going to happen. We know that there are a few duplicates of names. We started with `500` names, but now we have `484` names. What do we do with the duplicates? If you are an **SL** student you may ignore them. If you are an **HL** student, then we're going to need to restructure thing slightly. Instead of `currdict = {'Reg':'USD'}` we're going to need to have a list embedded as the value of our dictionary. That would look like this: `currdict = {'Reg':['USD']}` or, let's imagine that there are two Reg's in our list `currdict = {'Reg':['USD', 'IDR']}`. Don't forget! `'Reg'` is the key and `['USD', 'IDR']` is the value."
   ]
  },
  {
   "cell_type": "code",
   "execution_count": null,
   "id": "1c84b594",
   "metadata": {},
   "outputs": [],
   "source": [
    "#Make a function which creates a dictionary where it accepts the data, a target index, and a value index. \n",
    "#The target will become the key, and the value index will become the value relating to that key. \n",
    "def makedict(data: list, target: int, value: int):\n",
    "    newdict = {}\n",
    "    \n",
    "    #YOUR CODE HERE\n",
    "    raise NotImplementedError()\n",
    "    \n",
    "    return newdict"
   ]
  },
  {
   "cell_type": "code",
   "execution_count": null,
   "id": "d53b3be6",
   "metadata": {},
   "outputs": [],
   "source": [
    "#If you are an HL student, you should change this to True. \n",
    "HL = False"
   ]
  },
  {
   "cell_type": "code",
   "execution_count": null,
   "id": "e3533d51",
   "metadata": {},
   "outputs": [],
   "source": [
    "if HL == False:\n",
    "    assert currdict['Anastasia'] == 'PHP'\n",
    "    assert currdict['Joceline'] == 'UAH'\n",
    "    assert currdict['Alaine'] == 'CNY'\n",
    "\n",
    "    assert citydict['Ede'] == 'Yanzhou'\n",
    "    assert citydict['Marla'] == 'Pepe'\n",
    "    assert citydict['Bertrando'] == 'Sann'\n",
    "\n",
    "if HL == True:\n",
    "    assert currdict['Lida'] == ['SEK', 'EUR']\n",
    "    assert currdict['Alexa'] == ['JPY']\n",
    "    assert currdict['Cathleen'] == ['UYU', 'PHP']\n",
    "    \n",
    "    assert citydict['Lida'] == ['Mörrum', 'Rodez']\n",
    "    assert citydict['Giff'] == ['Dongsheng']\n",
    "    assert citydict['Cathleen'] == ['Barra de Carrasco', 'Buenavista']\n",
    "    "
   ]
  },
  {
   "cell_type": "markdown",
   "id": "09939120",
   "metadata": {},
   "source": [
    "#### Question 3\n",
    "\n",
    "**HL Question** Now let's reverse things. What if, instead of having the key be the person, we have the key be the currency, and the value be list of people. We could do the same for the cities. \n",
    "\n",
    "Thee advantage of having two such dictionaries, would be that we could then cross-index cities with currency. Let's try it out. Make a dictionary where the key is the currency, and the value is a list of names. Then use your citydict from question 2 in order to find out the cities where KZT is being spent (according to our fictional data). \n"
   ]
  },
  {
   "cell_type": "code",
   "execution_count": null,
   "id": "3f8dc639",
   "metadata": {},
   "outputs": [],
   "source": [
    "currency = {} #Feel free to use your function from question 2, with a few tweaks if necessary to create these dictionaries. \n",
    "cities = citydict"
   ]
  },
  {
   "cell_type": "code",
   "execution_count": null,
   "id": "70b7f1c5",
   "metadata": {},
   "outputs": [],
   "source": [
    "#Who are the people that spend KZT?\n",
    "\n",
    "print(currency['KZT'])\n",
    "assert currency['KZT'] == ['Kylila', 'Patty', 'Jorge']\n",
    "\n",
    "#Now let's compare currency against cities. Where do the people who spend KZT live?\n",
    "answerlist = [['Akzhal'], ['Ransiki', 'Aksu'], ['Sorang']]\n",
    "for i, name in enumerate(currency['KZT']):\n",
    "    assert cities[name] == answerlist[i]"
   ]
  },
  {
   "cell_type": "code",
   "execution_count": null,
   "id": "8adc7aa6",
   "metadata": {},
   "outputs": [],
   "source": [
    "print(answerlist)"
   ]
  },
  {
   "cell_type": "markdown",
   "id": "75b48929",
   "metadata": {},
   "source": [
    "#### Question 4\n",
    "\n",
    "And finally to round things out, give an answer to the following IB past exam question\n",
    "\n",
    "![Hexadecimal question](hex.png)\n",
    "\n",
    "[Your answer here]"
   ]
  },
  {
   "cell_type": "code",
   "execution_count": null,
   "id": "0a32c3f4",
   "metadata": {},
   "outputs": [],
   "source": []
  }
 ],
 "metadata": {
  "kernelspec": {
   "display_name": "Python 3 (ipykernel)",
   "language": "python",
   "name": "python3"
  },
  "language_info": {
   "codemirror_mode": {
    "name": "ipython",
    "version": 3
   },
   "file_extension": ".py",
   "mimetype": "text/x-python",
   "name": "python",
   "nbconvert_exporter": "python",
   "pygments_lexer": "ipython3",
   "version": "3.9.7"
  }
 },
 "nbformat": 4,
 "nbformat_minor": 5
}
